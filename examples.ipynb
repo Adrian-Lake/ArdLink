{
 "cells": [
  {
   "cell_type": "code",
   "execution_count": 1,
   "metadata": {},
   "outputs": [],
   "source": [
    "# auto-reaload for quick debugging\n",
    "%load_ext autoreload\n",
    "%autoreload 2\n",
    "\n",
    "import ArdLink as al"
   ]
  },
  {
   "cell_type": "code",
   "execution_count": 2,
   "metadata": {},
   "outputs": [],
   "source": [
    "\"\"\"Config\"\"\"\n",
    "\n",
    "port = 'COM2' # port to connect to device"
   ]
  },
  {
   "cell_type": "code",
   "execution_count": 3,
   "metadata": {},
   "outputs": [],
   "source": [
    "# Bring digital pin 13 (LED) high\n",
    "\n",
    "# This example executes instructions immediately as Python executes\n",
    "\n",
    "device = al.Device(port, 9600, timeout=0.05)\n",
    "\n",
    "pin = 13\n",
    "\n",
    "device.execute(al.PinMode(pin, 0x0)) # set pinmode at pin 13 to output\n",
    "device.execute(al.Set(al.device.DATA_BUFFER_OFFSET + 0, 0x1)) # write 1 to addr 0 of data buffer\n",
    "device.execute(al.DigitalWrite(pin, al.device.DATA_BUFFER_OFFSET + 0)) # write addr 0 of data buffer to digital pin 13\n",
    "\n",
    "\n",
    "device.close()"
   ]
  },
  {
   "cell_type": "code",
   "execution_count": 9,
   "metadata": {},
   "outputs": [],
   "source": [
    "# Pulse pin 13 (LED) on a 1 sec sec cycle\n",
    "\n",
    "# This example is loaded into the instruction buffer then executed\n",
    "device = al.Device(port, 9600, timeout=0.05)\n",
    "\n",
    "pin = 13 # digital LED pin\n",
    "loop_label = 0x00\n",
    "period = 1000 # ms\n",
    "\n",
    "device.write_routine([\n",
    "    al.PinMode(pin, 0x0),\n",
    "    al.Set(al.device.DATA_BUFFER_OFFSET + 0, 0x1),          # set addr 0 to high const\n",
    "    al.Set(al.device.DATA_BUFFER_OFFSET + 1, 0x0),          # set addr 1 to low const\n",
    "    al.Set(al.device.DATA_BUFFER_OFFSET + 2, period//2),    # set addr 2 to half cycle period\n",
    "    al.Label(loop_label),                                   # set loop label\n",
    "    al.ReadInstr(),                                         # Check for instructions. This allows us to send a halt command\n",
    "    al.DigitalWrite(pin, al.device.DATA_BUFFER_OFFSET + 0), # set digital pin to val at addr 0\n",
    "    al.Delay(al.device.DATA_BUFFER_OFFSET + 2),             # delay for half cycle period\n",
    "    al.DigitalWrite(pin, al.device.DATA_BUFFER_OFFSET + 1),\n",
    "    al.Delay(al.device.DATA_BUFFER_OFFSET + 2),\n",
    "    al.Goto(loop_label)                                     # goto beginning of loop\n",
    "    ])\n",
    "\n",
    "device.run_routine()\n",
    "\n",
    "device.close()"
   ]
  },
  {
   "cell_type": "code",
   "execution_count": null,
   "metadata": {},
   "outputs": [],
   "source": []
  }
 ],
 "metadata": {
  "interpreter": {
   "hash": "57baa5815c940fdaff4d14510622de9616cae602444507ba5d0b6727c008cbd6"
  },
  "kernelspec": {
   "display_name": "Python 3.7.4 64-bit",
   "language": "python",
   "name": "python3"
  },
  "language_info": {
   "codemirror_mode": {
    "name": "ipython",
    "version": 3
   },
   "file_extension": ".py",
   "mimetype": "text/x-python",
   "name": "python",
   "nbconvert_exporter": "python",
   "pygments_lexer": "ipython3",
   "version": "3.7.6"
  },
  "orig_nbformat": 4
 },
 "nbformat": 4,
 "nbformat_minor": 2
}
